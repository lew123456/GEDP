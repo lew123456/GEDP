{
 "cells": [
  {
   "cell_type": "code",
   "execution_count": null,
   "id": "dfae17c0-ceae-4079-8eb3-f6f2f1f0a763",
   "metadata": {
    "tags": []
   },
   "outputs": [],
   "source": [
    "import GEOparse\n",
    "import numpy as np\n",
    "import pandas as pd\n",
    "import matplotlib.pyplot as plt\n",
    "import pylab as pl\n",
    "import seaborn as sns\n",
    "import pyreadr"
   ]
  },
  {
   "cell_type": "code",
   "execution_count": null,
   "id": "f93aeea8-7ce2-4354-8abc-fda97e76c197",
   "metadata": {
    "tags": []
   },
   "outputs": [],
   "source": [
    "gse_data = pd.read_csv('F:/R/GEO1/converted_gene_symbols.csv')"
   ]
  },
  {
   "cell_type": "code",
   "execution_count": null,
   "id": "7a4beb03-dffd-4669-99c7-70d89e16405b",
   "metadata": {},
   "outputs": [],
   "source": [
    "# 删除 symbol 列为 NaN 的行\n",
    "merged_data = gse_data.dropna(subset=['SYMBOL'])"
   ]
  },
  {
   "cell_type": "code",
   "execution_count": null,
   "id": "9c0375c3",
   "metadata": {},
   "outputs": [],
   "source": [
    "# 计算每个探针的表达值平均值\n",
    "merged_data['mean_expression'] = merged_data.filter(regex='^GSM').mean(axis=1)\n",
    "\n",
    "# 根据 symbol 和 mean_expression 对数据进行排序, 同一个 symbol 中 mean_expression 最大的排在前面\n",
    "merged_data = merged_data.sort_values(['SYMBOL', 'mean_expression'], ascending=[True, False])\n",
    "\n",
    "# 根据 symbol 去重，保留 mean_expression 最大的\n",
    "merged_data = merged_data.drop_duplicates(subset='SYMBOL', keep='first')\n",
    "\n",
    "# 删除 mean_expression 列\n",
    "merged_data = merged_data.drop('mean_expression', axis=1)"
   ]
  },
  {
   "cell_type": "code",
   "execution_count": null,
   "id": "9e434ad2",
   "metadata": {},
   "outputs": [],
   "source": [
    "merged_data.to_csv(\"F:/R/GEO1/gene.csv\")"
   ]
  },
  {
   "cell_type": "code",
   "execution_count": null,
   "id": "c180965d",
   "metadata": {},
   "outputs": [],
   "source": []
  }
 ],
 "metadata": {
  "kernelspec": {
   "display_name": "Python 3 (ipykernel)",
   "language": "python",
   "name": "python3"
  },
  "language_info": {
   "codemirror_mode": {
    "name": "ipython",
    "version": 3
   },
   "file_extension": ".py",
   "mimetype": "text/x-python",
   "name": "python",
   "nbconvert_exporter": "python",
   "pygments_lexer": "ipython3",
   "version": "3.8.19"
  }
 },
 "nbformat": 4,
 "nbformat_minor": 5
}
