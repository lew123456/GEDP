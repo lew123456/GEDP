{
 "cells": [
  {
   "cell_type": "code",
   "execution_count": null,
   "id": "dfae17c0-ceae-4079-8eb3-f6f2f1f0a763",
   "metadata": {
    "tags": []
   },
   "outputs": [],
   "source": [
    "import GEOparse\n",
    "import numpy as np\n",
    "import pandas as pd\n",
    "import matplotlib.pyplot as plt\n",
    "import pylab as pl\n",
    "import seaborn as sns\n",
    "import pyreadr"
   ]
  },
  {
   "cell_type": "code",
   "execution_count": null,
   "id": "f93aeea8-7ce2-4354-8abc-fda97e76c197",
   "metadata": {
    "tags": []
   },
   "outputs": [],
   "source": [
    "# 读取两个 CSV 文件\n",
    "df1 = pd.read_csv('Genes1.csv')  # 替换为你的第一个文件路径\n",
    "df2 = pd.read_csv('Genes2.csv')  # 替换为你的第二个文件路径\n",
    "\n",
    "# 获取两列数据\n",
    "gene1 = df1['Gene Symbol']\n",
    "gene2 = df2['Gene.1']\n",
    "\n",
    "# 取交集\n",
    "intersection = set(gene1).intersection(set(gene2))\n",
    "\n",
    "# 将交集转换为列表或 DataFrame（如果需要）\n",
    "intersection_list = list(intersection)\n",
    "intersection_df = pd.DataFrame(intersection_list, columns=['Intersection'])"
   ]
  },
  {
   "cell_type": "code",
   "execution_count": null,
   "id": "7a4beb03-dffd-4669-99c7-70d89e16405b",
   "metadata": {},
   "outputs": [],
   "source": [
    "intersection_df.to_csv(\"gene.csv\")"
   ]
  },
  {
   "cell_type": "code",
   "execution_count": null,
   "id": "9c0375c3",
   "metadata": {},
   "outputs": [],
   "source": []
  },
  {
   "cell_type": "code",
   "execution_count": null,
   "id": "9e434ad2",
   "metadata": {},
   "outputs": [],
   "source": []
  },
  {
   "cell_type": "code",
   "execution_count": null,
   "id": "c180965d",
   "metadata": {},
   "outputs": [],
   "source": []
  }
 ],
 "metadata": {
  "kernelspec": {
   "display_name": "Python 3 (ipykernel)",
   "language": "python",
   "name": "python3"
  },
  "language_info": {
   "codemirror_mode": {
    "name": "ipython",
    "version": 3
   },
   "file_extension": ".py",
   "mimetype": "text/x-python",
   "name": "python",
   "nbconvert_exporter": "python",
   "pygments_lexer": "ipython3",
   "version": "3.8.19"
  }
 },
 "nbformat": 4,
 "nbformat_minor": 5
}
