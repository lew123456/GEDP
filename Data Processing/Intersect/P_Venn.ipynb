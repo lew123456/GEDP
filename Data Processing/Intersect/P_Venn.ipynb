{
 "cells": [
  {
   "cell_type": "code",
   "execution_count": null,
   "id": "dfae17c0-ceae-4079-8eb3-f6f2f1f0a763",
   "metadata": {
    "tags": []
   },
   "outputs": [],
   "source": [
    "import matplotlib.pyplot as plt\n",
    "from matplotlib_venn import venn2\n",
    "\n",
    "# 定义数据集\n",
    "set1 = 2801  # 第一个数据集的大小\n",
    "set2 = 866   # 第二个数据集的大小\n",
    "intersection = 106  # 两个数据集的交集\n",
    "\n",
    "# 计算各自独有的部分\n",
    "only_set1 = set1 - intersection\n",
    "only_set2 = set2 - intersection\n",
    "\n",
    "# 绘制韦恩图\n",
    "venn = venn2(\n",
    "    subsets=(only_set1, only_set2, intersection), \n",
    "    set_labels=('GSE56081', 'CellAge'),\n",
    "    set_colors=('#5cb07f', '#9793c6'),  # 自定义颜色\n",
    "    alpha=0.9  # 设置透明度\n",
    ")\n",
    "\n",
    "# 设置字体大小\n",
    "font_size = 13  # 你可以根据需要调整这个值\n",
    "\n",
    "# 调整标签位置和字体大小\n",
    "for text in venn.set_labels:\n",
    "    text.set_fontsize(font_size)  # 设置标签字体大小\n",
    "    text.set_rotation(90)  # 旋转标签\n",
    "\n",
    "# 手动设置标签位置\n",
    "venn.set_labels[0].set_position((-0.25, -0.88))  # GSE56081 标签向左移动\n",
    "venn.set_labels[1].set_position((0.6, -0.58))   # CellAge 标签向右移动\n",
    "\n",
    "# 旋转子集标签并设置字体大小\n",
    "for text in venn.subset_labels:\n",
    "    if text is not None:\n",
    "        text.set_fontsize(font_size)  # 设置子集标签字体大小\n",
    "        text.set_rotation(90)  # 旋转子集标签\n",
    "\n",
    "# 调整图形显示方向\n",
    "plt.gca().invert_yaxis()  # 反转 y 轴，使小圆在上\n",
    "plt.gca().invert_xaxis()  # 反转 x 轴，调整方向\n",
    "\n",
    "# 添加外边框\n",
    "for spine in plt.gca().spines.values():\n",
    "    spine.set_visible(True)  # 显示边框\n",
    "    spine.set_edgecolor('black')  # 设置边框颜色\n",
    "    spine.set_linewidth(1.5)  # 设置边框宽度\n",
    "\n",
    "# 设置图形外边框\n",
    "plt.gca().set_frame_on(True)  # 确保图形外边框显示\n",
    "plt.gca().patch.set_edgecolor('black')  # 设置外边框颜色\n",
    "plt.gca().patch.set_linewidth(2)  # 设置外边框宽度\n",
    "\n",
    "# 保存图片\n",
    "output_path = \"venn_diagram.png\"  # 图片保存路径\n",
    "plt.savefig(output_path, dpi=600, bbox_inches='tight')  # 保存为PNG格式，分辨率300DPI\n",
    "\n",
    "# 显示图形\n",
    "plt.show()"
   ]
  },
  {
   "cell_type": "code",
   "execution_count": null,
   "id": "f93aeea8-7ce2-4354-8abc-fda97e76c197",
   "metadata": {
    "tags": []
   },
   "outputs": [],
   "source": []
  },
  {
   "cell_type": "code",
   "execution_count": null,
   "id": "7a4beb03-dffd-4669-99c7-70d89e16405b",
   "metadata": {},
   "outputs": [],
   "source": []
  },
  {
   "cell_type": "code",
   "execution_count": null,
   "id": "9c0375c3",
   "metadata": {},
   "outputs": [],
   "source": []
  },
  {
   "cell_type": "code",
   "execution_count": null,
   "id": "9e434ad2",
   "metadata": {},
   "outputs": [],
   "source": []
  },
  {
   "cell_type": "code",
   "execution_count": null,
   "id": "c180965d",
   "metadata": {},
   "outputs": [],
   "source": []
  }
 ],
 "metadata": {
  "kernelspec": {
   "display_name": "Python 3 (ipykernel)",
   "language": "python",
   "name": "python3"
  },
  "language_info": {
   "codemirror_mode": {
    "name": "ipython",
    "version": 3
   },
   "file_extension": ".py",
   "mimetype": "text/x-python",
   "name": "python",
   "nbconvert_exporter": "python",
   "pygments_lexer": "ipython3",
   "version": "3.8.19"
  }
 },
 "nbformat": 4,
 "nbformat_minor": 5
}
